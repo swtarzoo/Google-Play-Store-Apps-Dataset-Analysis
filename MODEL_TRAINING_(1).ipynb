{
  "cells": [
    {
      "cell_type": "markdown",
      "id": "8c4ce41b",
      "metadata": {
        "id": "8c4ce41b"
      },
      "source": [
        "###  Import Data and Required Packages\n",
        "####  Importing Pandas, Numpy, Matplotlib, Seaborn and Warings Library."
      ]
    },
    {
      "cell_type": "code",
      "execution_count": null,
      "id": "dc3cc422",
      "metadata": {
        "id": "dc3cc422"
      },
      "outputs": [],
      "source": [
        "import pandas as pd\n",
        "import numpy as np\n",
        "import matplotlib.pyplot as plt\n",
        "import seaborn as sns\n",
        "import warnings\n",
        "from sklearn.preprocessing import PowerTransformer\n",
        "from sklearn.preprocessing import FunctionTransformer\n",
        "warnings.filterwarnings(\"ignore\")\n",
        "\n",
        "from sklearn.preprocessing import OneHotEncoder\n",
        "from sklearn.feature_extraction.text import CountVectorizer\n",
        "from sklearn.linear_model import LinearRegression\n",
        "from sklearn.linear_model import LogisticRegression\n",
        "from sklearn.ensemble import RandomForestRegressor\n",
        "from sklearn.compose import make_column_transformer\n",
        "from sklearn.pipeline import make_pipeline\n",
        "from sklearn.preprocessing import StandardScaler\n",
        "from sklearn.preprocessing import OrdinalEncoder\n",
        "from sklearn.model_selection import train_test_split\n",
        "from sklearn import metrics\n",
        "import xgboost\n",
        "\n",
        "#core import for hyperparamter tuning\n",
        "from sklearn.model_selection import RandomizedSearchCV\n",
        "\n",
        "\n",
        "%matplotlib inline"
      ]
    },
    {
      "cell_type": "markdown",
      "id": "6df7a2f6",
      "metadata": {
        "id": "6df7a2f6"
      },
      "source": [
        "#### Import the CSV Data as Pandas DataFrame"
      ]
    },
    {
      "cell_type": "code",
      "execution_count": null,
      "id": "03b14c4e",
      "metadata": {
        "id": "03b14c4e"
      },
      "outputs": [],
      "source": [
        "df = pd.read_csv('data/google_outliers.csv')"
      ]
    },
    {
      "cell_type": "markdown",
      "id": "3cab935f",
      "metadata": {
        "id": "3cab935f"
      },
      "source": [
        "#### Show Top 5 Records"
      ]
    },
    {
      "cell_type": "code",
      "execution_count": null,
      "id": "0d8f3e6e",
      "metadata": {
        "id": "0d8f3e6e",
        "outputId": "19a4b464-b719-43fb-f6e0-566049f875fc"
      },
      "outputs": [
        {
          "data": {
            "text/html": [
              "<div>\n",
              "<style scoped>\n",
              "    .dataframe tbody tr th:only-of-type {\n",
              "        vertical-align: middle;\n",
              "    }\n",
              "\n",
              "    .dataframe tbody tr th {\n",
              "        vertical-align: top;\n",
              "    }\n",
              "\n",
              "    .dataframe thead th {\n",
              "        text-align: right;\n",
              "    }\n",
              "</style>\n",
              "<table border=\"1\" class=\"dataframe\">\n",
              "  <thead>\n",
              "    <tr style=\"text-align: right;\">\n",
              "      <th></th>\n",
              "      <th>App</th>\n",
              "      <th>Category</th>\n",
              "      <th>Rating</th>\n",
              "      <th>Reviews</th>\n",
              "      <th>Size</th>\n",
              "      <th>Installs</th>\n",
              "      <th>Type</th>\n",
              "      <th>Price</th>\n",
              "      <th>Content Rating</th>\n",
              "      <th>Genres</th>\n",
              "      <th>Last Updated</th>\n",
              "      <th>Current Ver</th>\n",
              "      <th>Android Ver</th>\n",
              "      <th>Day</th>\n",
              "      <th>Month</th>\n",
              "      <th>Year</th>\n",
              "    </tr>\n",
              "  </thead>\n",
              "  <tbody>\n",
              "    <tr>\n",
              "      <th>0</th>\n",
              "      <td>Photo Editor &amp; Candy Camera &amp; Grid &amp; ScrapBook</td>\n",
              "      <td>ART_AND_DESIGN</td>\n",
              "      <td>4.1</td>\n",
              "      <td>159.00</td>\n",
              "      <td>19.0</td>\n",
              "      <td>10000.0</td>\n",
              "      <td>Free</td>\n",
              "      <td>0.0</td>\n",
              "      <td>Everyone</td>\n",
              "      <td>Art &amp; Design</td>\n",
              "      <td>2018-01-07</td>\n",
              "      <td>1.0.0</td>\n",
              "      <td>4.0.3 and up</td>\n",
              "      <td>7</td>\n",
              "      <td>1</td>\n",
              "      <td>2018.0</td>\n",
              "    </tr>\n",
              "    <tr>\n",
              "      <th>1</th>\n",
              "      <td>Coloring book moana</td>\n",
              "      <td>ART_AND_DESIGN</td>\n",
              "      <td>3.9</td>\n",
              "      <td>967.00</td>\n",
              "      <td>14.0</td>\n",
              "      <td>500000.0</td>\n",
              "      <td>Free</td>\n",
              "      <td>0.0</td>\n",
              "      <td>Everyone</td>\n",
              "      <td>Art &amp; Design;Pretend Play</td>\n",
              "      <td>2018-01-15</td>\n",
              "      <td>2.0.0</td>\n",
              "      <td>4.0.3 and up</td>\n",
              "      <td>15</td>\n",
              "      <td>1</td>\n",
              "      <td>2018.0</td>\n",
              "    </tr>\n",
              "    <tr>\n",
              "      <th>2</th>\n",
              "      <td>U Launcher Lite – FREE Live Cool Themes, Hide ...</td>\n",
              "      <td>ART_AND_DESIGN</td>\n",
              "      <td>4.7</td>\n",
              "      <td>87510.00</td>\n",
              "      <td>8.7</td>\n",
              "      <td>5000000.0</td>\n",
              "      <td>Free</td>\n",
              "      <td>0.0</td>\n",
              "      <td>Everyone</td>\n",
              "      <td>Art &amp; Design</td>\n",
              "      <td>2018-08-01</td>\n",
              "      <td>1.2.4</td>\n",
              "      <td>4.0.3 and up</td>\n",
              "      <td>1</td>\n",
              "      <td>8</td>\n",
              "      <td>2018.0</td>\n",
              "    </tr>\n",
              "    <tr>\n",
              "      <th>3</th>\n",
              "      <td>Sketch - Draw &amp; Paint</td>\n",
              "      <td>ART_AND_DESIGN</td>\n",
              "      <td>4.5</td>\n",
              "      <td>136881.75</td>\n",
              "      <td>25.0</td>\n",
              "      <td>12498500.0</td>\n",
              "      <td>Free</td>\n",
              "      <td>0.0</td>\n",
              "      <td>Teen</td>\n",
              "      <td>Art &amp; Design</td>\n",
              "      <td>2018-06-08</td>\n",
              "      <td>Varies with device</td>\n",
              "      <td>4.2 and up</td>\n",
              "      <td>8</td>\n",
              "      <td>6</td>\n",
              "      <td>2018.0</td>\n",
              "    </tr>\n",
              "    <tr>\n",
              "      <th>4</th>\n",
              "      <td>Pixel Draw - Number Art Coloring Book</td>\n",
              "      <td>ART_AND_DESIGN</td>\n",
              "      <td>4.3</td>\n",
              "      <td>967.00</td>\n",
              "      <td>2.8</td>\n",
              "      <td>100000.0</td>\n",
              "      <td>Free</td>\n",
              "      <td>0.0</td>\n",
              "      <td>Everyone</td>\n",
              "      <td>Art &amp; Design;Creativity</td>\n",
              "      <td>2018-06-20</td>\n",
              "      <td>1.1</td>\n",
              "      <td>4.4 and up</td>\n",
              "      <td>20</td>\n",
              "      <td>6</td>\n",
              "      <td>2018.0</td>\n",
              "    </tr>\n",
              "  </tbody>\n",
              "</table>\n",
              "</div>"
            ],
            "text/plain": [
              "                                                 App        Category  Rating  \\\n",
              "0     Photo Editor & Candy Camera & Grid & ScrapBook  ART_AND_DESIGN     4.1   \n",
              "1                                Coloring book moana  ART_AND_DESIGN     3.9   \n",
              "2  U Launcher Lite – FREE Live Cool Themes, Hide ...  ART_AND_DESIGN     4.7   \n",
              "3                              Sketch - Draw & Paint  ART_AND_DESIGN     4.5   \n",
              "4              Pixel Draw - Number Art Coloring Book  ART_AND_DESIGN     4.3   \n",
              "\n",
              "     Reviews  Size    Installs  Type  Price Content Rating  \\\n",
              "0     159.00  19.0     10000.0  Free    0.0       Everyone   \n",
              "1     967.00  14.0    500000.0  Free    0.0       Everyone   \n",
              "2   87510.00   8.7   5000000.0  Free    0.0       Everyone   \n",
              "3  136881.75  25.0  12498500.0  Free    0.0           Teen   \n",
              "4     967.00   2.8    100000.0  Free    0.0       Everyone   \n",
              "\n",
              "                      Genres Last Updated         Current Ver   Android Ver  \\\n",
              "0               Art & Design   2018-01-07               1.0.0  4.0.3 and up   \n",
              "1  Art & Design;Pretend Play   2018-01-15               2.0.0  4.0.3 and up   \n",
              "2               Art & Design   2018-08-01               1.2.4  4.0.3 and up   \n",
              "3               Art & Design   2018-06-08  Varies with device    4.2 and up   \n",
              "4    Art & Design;Creativity   2018-06-20                 1.1    4.4 and up   \n",
              "\n",
              "   Day  Month    Year  \n",
              "0    7      1  2018.0  \n",
              "1   15      1  2018.0  \n",
              "2    1      8  2018.0  \n",
              "3    8      6  2018.0  \n",
              "4   20      6  2018.0  "
            ]
          },
          "execution_count": 3,
          "metadata": {},
          "output_type": "execute_result"
        }
      ],
      "source": [
        "df.head()"
      ]
    },
    {
      "cell_type": "markdown",
      "id": "0aa8d4e7",
      "metadata": {
        "id": "0aa8d4e7"
      },
      "source": [
        "#### Dropping columns that do not contribute numerically to the Regression Model"
      ]
    },
    {
      "cell_type": "code",
      "execution_count": null,
      "id": "21cc939e",
      "metadata": {
        "id": "21cc939e"
      },
      "outputs": [],
      "source": [
        "df.drop(columns=['Current Ver','Android Ver','App','Last Updated'],inplace=True)"
      ]
    },
    {
      "cell_type": "markdown",
      "id": "34eecf35",
      "metadata": {
        "id": "34eecf35"
      },
      "source": [
        "#### Encoding categorical values"
      ]
    },
    {
      "cell_type": "code",
      "execution_count": null,
      "id": "7fa546bd",
      "metadata": {
        "id": "7fa546bd"
      },
      "outputs": [],
      "source": [
        "df=pd.get_dummies(df,columns=['Type','Content Rating'],drop_first=True)"
      ]
    },
    {
      "cell_type": "markdown",
      "id": "59b5a960",
      "metadata": {
        "id": "59b5a960"
      },
      "source": [
        "#### Splitting our mathematical feature columns and assigning it to 'X'"
      ]
    },
    {
      "cell_type": "code",
      "execution_count": null,
      "id": "38a3223a",
      "metadata": {
        "id": "38a3223a"
      },
      "outputs": [],
      "source": [
        "X=df.drop(columns=['Category','Rating','Genres'],axis=1)"
      ]
    },
    {
      "cell_type": "markdown",
      "id": "f4fffe4c",
      "metadata": {
        "id": "f4fffe4c"
      },
      "source": [
        "#### Splitting our target variable 'Rating' and assigning it to 'y'"
      ]
    },
    {
      "cell_type": "code",
      "execution_count": null,
      "id": "8491b25f",
      "metadata": {
        "id": "8491b25f"
      },
      "outputs": [],
      "source": [
        "y=df['Rating']"
      ]
    },
    {
      "cell_type": "markdown",
      "id": "57d4296e",
      "metadata": {
        "id": "57d4296e"
      },
      "source": [
        "#### Splitting up our data set into 'train' and 'test'"
      ]
    },
    {
      "cell_type": "code",
      "execution_count": null,
      "id": "bee2702e",
      "metadata": {
        "id": "bee2702e"
      },
      "outputs": [],
      "source": [
        "X_train,X_test,y_train,y_test = train_test_split(X,y, test_size=0.3)"
      ]
    },
    {
      "cell_type": "markdown",
      "id": "fa88f82c",
      "metadata": {
        "id": "fa88f82c"
      },
      "source": [
        "#### Scaling the training data(fitting the parameters and transforming the values)"
      ]
    },
    {
      "cell_type": "code",
      "execution_count": null,
      "id": "6387bd34",
      "metadata": {
        "id": "6387bd34"
      },
      "outputs": [],
      "source": [
        "scaler= StandardScaler()\n",
        "\n",
        "X_train=scaler.fit_transform(X_train)\n",
        "\n",
        "#transforming the test data.We avoid fitting the values to prevent data leakage!\n",
        "X_test=scaler.transform(X_test)"
      ]
    },
    {
      "cell_type": "markdown",
      "id": "7fd62631",
      "metadata": {
        "id": "7fd62631"
      },
      "source": [
        "## Random Forest Regressor"
      ]
    },
    {
      "cell_type": "markdown",
      "id": "8f7edf8e",
      "metadata": {
        "id": "8f7edf8e"
      },
      "source": [
        "#### Fitting without hyperparamter tuning"
      ]
    },
    {
      "cell_type": "code",
      "execution_count": null,
      "id": "03026abd",
      "metadata": {
        "id": "03026abd",
        "outputId": "484c372d-d5ac-48c7-deb8-00b3af411f88"
      },
      "outputs": [
        {
          "data": {
            "text/plain": [
              "RandomForestRegressor(n_estimators=10, random_state=42)"
            ]
          },
          "execution_count": 17,
          "metadata": {},
          "output_type": "execute_result"
        }
      ],
      "source": [
        "rf=RandomForestRegressor(n_estimators = 10, random_state = 42)\n",
        "rf.fit(X_train,y_train)"
      ]
    },
    {
      "cell_type": "markdown",
      "id": "018c6b03",
      "metadata": {
        "id": "018c6b03"
      },
      "source": [
        "#### Predictions"
      ]
    },
    {
      "cell_type": "code",
      "execution_count": null,
      "id": "0a2d37a4",
      "metadata": {
        "id": "0a2d37a4"
      },
      "outputs": [],
      "source": [
        "pred_rf=rf.predict(X_test)"
      ]
    },
    {
      "cell_type": "markdown",
      "id": "cd0f4b7f",
      "metadata": {
        "id": "cd0f4b7f"
      },
      "source": [
        "#### Use the random grid to search for best hyperparameters"
      ]
    },
    {
      "cell_type": "code",
      "execution_count": null,
      "id": "246b9d21",
      "metadata": {
        "id": "246b9d21"
      },
      "outputs": [],
      "source": [
        "# Number of trees in random forest\n",
        "n_estimators = [int(x) for x in np.linspace(start = 200, stop = 2000, num = 10)]\n",
        "# Number of features to consider at every split\n",
        "max_features = ['auto', 'sqrt']\n",
        "# Maximum number of levels in tree\n",
        "max_depth = [int(x) for x in np.linspace(10, 110, num = 11)]\n",
        "max_depth.append(None)\n",
        "# Minimum number of samples required to split a node\n",
        "min_samples_split = [2, 5, 10]\n",
        "# Minimum number of samples required at each leaf node\n",
        "min_samples_leaf = [1, 2, 4]\n",
        "# Method of selecting samples for training each tree\n",
        "bootstrap = [True, False]\n",
        "# Create the random grid\n",
        "random_grid = {'n_estimators': n_estimators,\n",
        "               'max_features': max_features,\n",
        "               'max_depth': max_depth,\n",
        "               'min_samples_split': min_samples_split,\n",
        "               'min_samples_leaf': min_samples_leaf,\n",
        "               'bootstrap': bootstrap}"
      ]
    },
    {
      "cell_type": "code",
      "execution_count": null,
      "id": "055a09c3",
      "metadata": {
        "id": "055a09c3",
        "outputId": "2615eabc-a810-4d04-c2b7-b56e6f53e335"
      },
      "outputs": [
        {
          "name": "stdout",
          "output_type": "stream",
          "text": [
            "Fitting 3 folds for each of 100 candidates, totalling 300 fits\n"
          ]
        },
        {
          "data": {
            "text/plain": [
              "RandomizedSearchCV(cv=3, estimator=RandomForestRegressor(), n_iter=100,\n",
              "                   n_jobs=-1,\n",
              "                   param_distributions={'bootstrap': [True, False],\n",
              "                                        'max_depth': [10, 20, 30, 40, 50, 60,\n",
              "                                                      70, 80, 90, 100, 110,\n",
              "                                                      None],\n",
              "                                        'max_features': ['auto', 'sqrt'],\n",
              "                                        'min_samples_leaf': [1, 2, 4],\n",
              "                                        'min_samples_split': [2, 5, 10],\n",
              "                                        'n_estimators': [200, 400, 600, 800,\n",
              "                                                         1000, 1200, 1400, 1600,\n",
              "                                                         1800, 2000]},\n",
              "                   random_state=42, scoring='neg_mean_squared_error',\n",
              "                   verbose=2)"
            ]
          },
          "execution_count": 20,
          "metadata": {},
          "output_type": "execute_result"
        }
      ],
      "source": [
        "# First create the base model to tune\n",
        "rf = RandomForestRegressor()\n",
        "# Random search of parameters, using 3 fold cross validation,\n",
        "# search across 100 different combinations, and use all available cores\n",
        "rf_random = RandomizedSearchCV(estimator = rf, param_distributions = random_grid, n_iter = 100, cv = 3, verbose=2, random_state=42, n_jobs =-1,scoring='neg_mean_squared_error')\n",
        "# Fit the random search model\n",
        "rf_random.fit(X_train, y_train)"
      ]
    },
    {
      "cell_type": "markdown",
      "id": "133df62f",
      "metadata": {
        "id": "133df62f"
      },
      "source": [
        "#### Getting the best params"
      ]
    },
    {
      "cell_type": "code",
      "execution_count": null,
      "id": "53ef0a94",
      "metadata": {
        "id": "53ef0a94",
        "outputId": "fdce1f61-2480-4462-cfd9-366acf9f4017"
      },
      "outputs": [
        {
          "data": {
            "text/plain": [
              "{'n_estimators': 1600,\n",
              " 'min_samples_split': 5,\n",
              " 'min_samples_leaf': 1,\n",
              " 'max_features': 'auto',\n",
              " 'max_depth': 10,\n",
              " 'bootstrap': True}"
            ]
          },
          "execution_count": 22,
          "metadata": {},
          "output_type": "execute_result"
        }
      ],
      "source": [
        "rf_random.best_params_"
      ]
    },
    {
      "cell_type": "markdown",
      "id": "5901c598",
      "metadata": {
        "id": "5901c598"
      },
      "source": [
        "#### Getting the best estimators"
      ]
    },
    {
      "cell_type": "code",
      "execution_count": null,
      "id": "b1f9a073",
      "metadata": {
        "id": "b1f9a073",
        "outputId": "ab5bbdc8-2f01-411e-d908-ad9e1a98d969"
      },
      "outputs": [
        {
          "data": {
            "text/plain": [
              "RandomForestRegressor(max_depth=10, min_samples_split=5, n_estimators=1600)"
            ]
          },
          "execution_count": 23,
          "metadata": {},
          "output_type": "execute_result"
        }
      ],
      "source": [
        "rf_random.best_estimator_"
      ]
    },
    {
      "cell_type": "markdown",
      "id": "0c47b3ee",
      "metadata": {
        "id": "0c47b3ee"
      },
      "source": [
        "#### Reinitializing the regressor object with the best probable estimators"
      ]
    },
    {
      "cell_type": "code",
      "execution_count": null,
      "id": "6f12a695",
      "metadata": {
        "id": "6f12a695"
      },
      "outputs": [],
      "source": [
        "rf=RandomForestRegressor(max_depth=50, max_features='sqrt', min_samples_leaf=4,\n",
        "                      min_samples_split=10, n_estimators=800,bootstrap=True)"
      ]
    },
    {
      "cell_type": "markdown",
      "id": "ed1273ec",
      "metadata": {
        "id": "ed1273ec"
      },
      "source": [
        "#### Fitting the random forest regresor on our training data"
      ]
    },
    {
      "cell_type": "code",
      "execution_count": null,
      "id": "9eabcc95",
      "metadata": {
        "id": "9eabcc95",
        "outputId": "f0516dea-8190-42e4-8eec-61a6ee34abdb"
      },
      "outputs": [
        {
          "data": {
            "text/plain": [
              "RandomForestRegressor(max_depth=50, max_features='sqrt', min_samples_leaf=4,\n",
              "                      min_samples_split=10, n_estimators=800)"
            ]
          },
          "execution_count": 33,
          "metadata": {},
          "output_type": "execute_result"
        }
      ],
      "source": [
        "rf.fit(X_train,y_train)"
      ]
    },
    {
      "cell_type": "markdown",
      "id": "b505ac8a",
      "metadata": {
        "id": "b505ac8a"
      },
      "source": [
        "####  Use the Random forest's predict method on the test data"
      ]
    },
    {
      "cell_type": "code",
      "execution_count": null,
      "id": "7d1152d9",
      "metadata": {
        "id": "7d1152d9"
      },
      "outputs": [],
      "source": [
        "predictions_rf = rf.predict(X_test)"
      ]
    },
    {
      "cell_type": "markdown",
      "id": "89362078",
      "metadata": {
        "id": "89362078"
      },
      "source": [
        "## XG Boost Regressor"
      ]
    },
    {
      "cell_type": "markdown",
      "id": "f9df5405",
      "metadata": {
        "id": "f9df5405"
      },
      "source": [
        "#### Creates a xgbRegressor object"
      ]
    },
    {
      "cell_type": "code",
      "execution_count": null,
      "id": "ffad7bfc",
      "metadata": {
        "id": "ffad7bfc"
      },
      "outputs": [],
      "source": [
        "regressor_xgb=xgboost.XGBRegressor()\n",
        "\n",
        "#fitting without hyperparamter tuning\n",
        "regressor_xgb.fit(X_train,y_train)\n",
        "\n",
        "#predictions\n",
        "pred_xgb=regressor_xgb.predict(X_test)"
      ]
    },
    {
      "cell_type": "markdown",
      "id": "9df65a21",
      "metadata": {
        "id": "9df65a21"
      },
      "source": [
        "#### Hyperparamter Tuning for xgboost"
      ]
    },
    {
      "cell_type": "code",
      "execution_count": null,
      "id": "101467a9",
      "metadata": {
        "id": "101467a9"
      },
      "outputs": [],
      "source": [
        "n_estimators = [100, 500, 900, 1100, 1500]\n",
        "max_depth = [2, 3, 5, 10, 15]\n",
        "booster=['gbtree','gblinear']\n",
        "learning_rate=[0.05,0.1,0.15,0.20]\n",
        "min_child_weight=[1,2,3,4]\n",
        "base_score=[0.25,0.5,0.75,1]\n",
        "\n",
        "# Define the grid of hyperparameters to search\n",
        "parameter_grid_xgb = {\n",
        "    'n_estimators': n_estimators,\n",
        "    'max_depth':max_depth,\n",
        "    'learning_rate':learning_rate,\n",
        "    'min_child_weight':min_child_weight,\n",
        "    'booster':booster,\n",
        "    'base_score':base_score\n",
        "    }"
      ]
    },
    {
      "cell_type": "markdown",
      "id": "161817cd",
      "metadata": {
        "id": "161817cd"
      },
      "source": [
        "#### Set up the random search with 5-fold cross validation"
      ]
    },
    {
      "cell_type": "code",
      "execution_count": null,
      "id": "1c793d79",
      "metadata": {
        "id": "1c793d79",
        "outputId": "6b295f4e-5f70-44b6-badf-563916ef6f6c"
      },
      "outputs": [
        {
          "name": "stdout",
          "output_type": "stream",
          "text": [
            "Fitting 5 folds for each of 50 candidates, totalling 250 fits\n"
          ]
        },
        {
          "data": {
            "text/plain": [
              "RandomizedSearchCV(cv=5,\n",
              "                   estimator=XGBRegressor(base_score=None, booster=None,\n",
              "                                          callbacks=None,\n",
              "                                          colsample_bylevel=None,\n",
              "                                          colsample_bynode=None,\n",
              "                                          colsample_bytree=None,\n",
              "                                          early_stopping_rounds=None,\n",
              "                                          enable_categorical=False,\n",
              "                                          eval_metric=None, gamma=None,\n",
              "                                          gpu_id=None, grow_policy=None,\n",
              "                                          importance_type=None,\n",
              "                                          interaction_constraints=None,\n",
              "                                          learning_rate=None, max_bin=None,\n",
              "                                          m...\n",
              "                                          reg_alpha=None, reg_lambda=None, ...),\n",
              "                   n_iter=50, n_jobs=3,\n",
              "                   param_distributions={'base_score': [0.25, 0.5, 0.75, 1],\n",
              "                                        'booster': ['gbtree', 'gblinear'],\n",
              "                                        'learning_rate': [0.05, 0.1, 0.15, 0.2],\n",
              "                                        'max_depth': [2, 3, 5, 10, 15],\n",
              "                                        'min_child_weight': [1, 2, 3, 4],\n",
              "                                        'n_estimators': [100, 500, 900, 1100,\n",
              "                                                         1500]},\n",
              "                   random_state=42, return_train_score=True,\n",
              "                   scoring='neg_mean_absolute_error', verbose=5)"
            ]
          },
          "execution_count": 12,
          "metadata": {},
          "output_type": "execute_result"
        }
      ],
      "source": [
        "\n",
        "regressor=xgboost.XGBRegressor()\n",
        "\n",
        "random_cv_xgb = RandomizedSearchCV(estimator=regressor,\n",
        "            param_distributions=parameter_grid_xgb,\n",
        "            cv=5, n_iter=50,\n",
        "            scoring = 'neg_mean_absolute_error',n_jobs = 3,\n",
        "            verbose = 5,\n",
        "            return_train_score = True,\n",
        "            random_state=42)\n",
        "\n",
        "#train on the RandomSearchCv object to get best estimators\n",
        "random_cv_xgb.fit(X_train,y_train)"
      ]
    },
    {
      "cell_type": "markdown",
      "id": "02efee9b",
      "metadata": {
        "id": "02efee9b"
      },
      "source": [
        "#### Get the best params"
      ]
    },
    {
      "cell_type": "code",
      "execution_count": null,
      "id": "5f08e646",
      "metadata": {
        "id": "5f08e646",
        "outputId": "5d349a38-20fc-45d0-cd77-ec87cfe98138"
      },
      "outputs": [
        {
          "data": {
            "text/plain": [
              "{'n_estimators': 900,\n",
              " 'min_child_weight': 4,\n",
              " 'max_depth': 2,\n",
              " 'learning_rate': 0.05,\n",
              " 'booster': 'gbtree',\n",
              " 'base_score': 0.25}"
            ]
          },
          "execution_count": 13,
          "metadata": {},
          "output_type": "execute_result"
        }
      ],
      "source": [
        "random_cv_xgb.best_params_"
      ]
    },
    {
      "cell_type": "markdown",
      "id": "59748288",
      "metadata": {
        "id": "59748288"
      },
      "source": [
        "#### Reinitializing the regressor object with the best probable estimators"
      ]
    },
    {
      "cell_type": "code",
      "execution_count": null,
      "id": "efbed188",
      "metadata": {
        "id": "efbed188"
      },
      "outputs": [],
      "source": [
        "regressor_xgb=xgboost.XGBRegressor(base_score=1, booster='gbtree', colsample_bylevel=1,\n",
        "             colsample_bynode=1, colsample_bytree=1, gamma=0, gpu_id=-1,\n",
        "             importance_type='gain', interaction_constraints='',\n",
        "             learning_rate=0.15, max_delta_step=0, max_depth=5,\n",
        "             min_child_weight=2, missing=np.nan, monotone_constraints='()',\n",
        "             n_estimators=100, n_jobs=0, num_parallel_tree=1, random_state=0,\n",
        "             reg_alpha=0, reg_lambda=1, scale_pos_weight=1, subsample=1,\n",
        "             tree_method='exact', validate_parameters=1, verbosity=None)"
      ]
    },
    {
      "cell_type": "markdown",
      "id": "f004ac32",
      "metadata": {
        "id": "f004ac32"
      },
      "source": [
        "#### Fitting the xgbRegressor on our training data"
      ]
    },
    {
      "cell_type": "code",
      "execution_count": null,
      "id": "e1c0109b",
      "metadata": {
        "id": "e1c0109b",
        "outputId": "6a4ce4d1-5463-48b1-f9f7-69d399d365c1"
      },
      "outputs": [
        {
          "data": {
            "text/plain": [
              "XGBRegressor(base_score=1, booster='gbtree', callbacks=None,\n",
              "             colsample_bylevel=1, colsample_bynode=1, colsample_bytree=1,\n",
              "             early_stopping_rounds=None, enable_categorical=False,\n",
              "             eval_metric=None, gamma=0, gpu_id=-1, grow_policy='depthwise',\n",
              "             importance_type='gain', interaction_constraints='',\n",
              "             learning_rate=0.15, max_bin=256, max_cat_to_onehot=4,\n",
              "             max_delta_step=0, max_depth=5, max_leaves=0, min_child_weight=2,\n",
              "             missing=nan, monotone_constraints='()', n_estimators=100, n_jobs=0,\n",
              "             num_parallel_tree=1, predictor='auto', random_state=0, reg_alpha=0,\n",
              "             reg_lambda=1, ...)"
            ]
          },
          "execution_count": 15,
          "metadata": {},
          "output_type": "execute_result"
        }
      ],
      "source": [
        "regressor_xgb.fit(X_train,y_train)"
      ]
    },
    {
      "cell_type": "markdown",
      "id": "8d313917",
      "metadata": {
        "id": "8d313917"
      },
      "source": [
        "#### Fetching the predictions on our test data"
      ]
    },
    {
      "cell_type": "code",
      "execution_count": null,
      "id": "c0c617fb",
      "metadata": {
        "id": "c0c617fb"
      },
      "outputs": [],
      "source": [
        "predictions_xgb=regressor_xgb.predict(X_test)"
      ]
    },
    {
      "cell_type": "markdown",
      "id": "b2ec3721",
      "metadata": {
        "id": "b2ec3721"
      },
      "source": [
        "## Perfomance Evaluation: Random Forest vs XGBOOST  \n",
        "####  Random Forest (Tuned) and XGB (Tuned)  Error Evaluations"
      ]
    },
    {
      "cell_type": "code",
      "execution_count": null,
      "id": "79a81033",
      "metadata": {
        "id": "79a81033",
        "outputId": "e268848c-26c1-40cc-c57b-817ebe033410"
      },
      "outputs": [
        {
          "name": "stdout",
          "output_type": "stream",
          "text": [
            "Mean Absolute Error\tMAE_XGB: 0.2993431386032668 \t\t MAE_RF: 0.29805002079407006\n",
            "Mean Squared Error\tMSE_XGB: 0.15073913971584946 \t\t MSE_RF: 0.14952480905597093\n",
            "Root Mean Squared Error\tRMSE_XGB: 0.3882513872684159 \t\t RMSE_RF: 0.3866843791207125\n"
          ]
        }
      ],
      "source": [
        "\n",
        "print('Mean Absolute Error\\tMAE_XGB:', metrics.mean_absolute_error(y_test, predictions_xgb),'\\t\\t MAE_RF:',  metrics.mean_absolute_error(y_test, predictions_rf))\n",
        "print('Mean Squared Error\\tMSE_XGB:', metrics.mean_squared_error(y_test, predictions_xgb),'\\t\\t MSE_RF:',  metrics.mean_squared_error(y_test, predictions_rf))\n",
        "print('Root Mean Squared Error\\tRMSE_XGB:', np.sqrt(metrics.mean_squared_error(y_test, predictions_xgb)),'\\t\\t RMSE_RF:', np.sqrt(metrics.mean_squared_error(y_test, predictions_rf)))"
      ]
    },
    {
      "cell_type": "markdown",
      "id": "6e631392",
      "metadata": {
        "id": "6e631392"
      },
      "source": [
        "####  Random Forest (Untuned) and XGB (Ununed)  Error Evaluations"
      ]
    },
    {
      "cell_type": "code",
      "execution_count": null,
      "id": "73f0db94",
      "metadata": {
        "id": "73f0db94",
        "outputId": "7b8aa6ae-0949-42cb-e598-9b5f472edef8"
      },
      "outputs": [
        {
          "name": "stdout",
          "output_type": "stream",
          "text": [
            "Mean Absolute Error\tMAE_XGB: 0.30675862042226476 \t\t MAE_RF: 0.30557152887941635\n",
            "Mean Squared Error\tMSE_XGB: 0.15981031873303844 \t\t MSE_RF: 0.1656810612513979\n",
            "Root Mean Squared Error\tRMSE_XGB: 0.3997628281031622 \t\t RMSE_RF: 0.4070393853810684\n"
          ]
        }
      ],
      "source": [
        "print('Mean Absolute Error\\tMAE_XGB:', metrics.mean_absolute_error(y_test, pred_xgb),'\\t\\t MAE_RF:',  metrics.mean_absolute_error(y_test, pred_rf))\n",
        "print('Mean Squared Error\\tMSE_XGB:', metrics.mean_squared_error(y_test, pred_xgb),'\\t\\t MSE_RF:',  metrics.mean_squared_error(y_test, pred_rf))\n",
        "print('Root Mean Squared Error\\tRMSE_XGB:', np.sqrt(metrics.mean_squared_error(y_test, pred_xgb)),'\\t\\t RMSE_RF:', np.sqrt(metrics.mean_squared_error(y_test, pred_rf)))"
      ]
    },
    {
      "cell_type": "markdown",
      "id": "264f3ff0",
      "metadata": {
        "id": "264f3ff0"
      },
      "source": [
        "#### Conclusions\n",
        "1. XGB Model performs more or less the same even after tuning the hyperparameters\n",
        "2. We see a slight improvement in the Random Forest Regressor with hyperparameters tuning"
      ]
    }
  ],
  "metadata": {
    "kernelspec": {
      "display_name": "Python 3 (ipykernel)",
      "language": "python",
      "name": "python3"
    },
    "language_info": {
      "codemirror_mode": {
        "name": "ipython",
        "version": 3
      },
      "file_extension": ".py",
      "mimetype": "text/x-python",
      "name": "python",
      "nbconvert_exporter": "python",
      "pygments_lexer": "ipython3",
      "version": "3.9.12"
    },
    "colab": {
      "provenance": []
    }
  },
  "nbformat": 4,
  "nbformat_minor": 5
}